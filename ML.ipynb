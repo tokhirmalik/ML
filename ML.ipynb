{
  "nbformat": 4,
  "nbformat_minor": 0,
  "metadata": {
    "colab": {
      "private_outputs": true,
      "provenance": []
    },
    "kernelspec": {
      "name": "python3",
      "display_name": "Python 3"
    },
    "language_info": {
      "name": "python"
    }
  },
  "cells": [
    {
      "cell_type": "code",
      "execution_count": null,
      "metadata": {
        "id": "yDl4g0Mi6uPP"
      },
      "outputs": [],
      "source": [
        "import numpy as np\n",
        "import pandas as pd\n",
        "import matplotlib.pyplot as plt\n",
        "import seaborn as sns\n",
        "import sklearn\n"
      ]
    },
    {
      "cell_type": "code",
      "source": [
        " url =  \"https://raw.githubusercontent.com/ageron/handson-ml2/master/datasets/housing/housing.csv\"\n",
        "df = pd.read_csv(url)\n",
        "df.head()"
      ],
      "metadata": {
        "id": "yTXqFW8H7DIV"
      },
      "execution_count": null,
      "outputs": []
    },
    {
      "cell_type": "code",
      "source": [
        "from sklearn.model_selection import train_test_split\n",
        "train_set, test_set = train_test_split(df, test_size=0.2, random_state=22)"
      ],
      "metadata": {
        "id": "MZUQ5am07Y5y"
      },
      "execution_count": null,
      "outputs": []
    },
    {
      "cell_type": "code",
      "source": [
        "housing = train_set.drop('median_house_value',axis=1)\n",
        "housing_labels = train_set = ['medain_house_value'].copy()"
      ],
      "metadata": {
        "id": "H5TfLgHR7uI6"
      },
      "execution_count": null,
      "outputs": []
    },
    {
      "cell_type": "code",
      "source": [
        "#1-usul\n",
        "housing.dropna(subset=['total_bedrooms'])\n"
      ],
      "metadata": {
        "id": "ys9uABLm8EL8"
      },
      "execution_count": null,
      "outputs": []
    },
    {
      "cell_type": "code",
      "source": [
        "#2-usul\n",
        "housing.drop('total_bedrooms',axis=1)"
      ],
      "metadata": {
        "id": "CItr2yyx9u5b"
      },
      "execution_count": null,
      "outputs": []
    },
    {
      "cell_type": "code",
      "source": [
        "#3-usul\n",
        "median = housing['total_bedrooms'].median()\n",
        "housing['total_bedrooms'].fillna(median)\n",
        "housing.sample()"
      ],
      "metadata": {
        "id": "-up1zVo5-MDq"
      },
      "execution_count": null,
      "outputs": []
    },
    {
      "cell_type": "code",
      "source": [
        "#4-usul\n",
        "housing['total_bedrooms'] = housing['total_bedrooms'].ffill()\n",
        "\n"
      ],
      "metadata": {
        "id": "v6vlpqeH-dVD"
      },
      "execution_count": null,
      "outputs": []
    },
    {
      "cell_type": "code",
      "source": [
        "#5-usul\n",
        "housing['total_bedrooms'] = housing['total_bedrooms'].bfill()\n",
        "\n"
      ],
      "metadata": {
        "id": "0rM_hfSF_hWK"
      },
      "execution_count": null,
      "outputs": []
    },
    {
      "cell_type": "markdown",
      "source": [
        " SimpleImputer"
      ],
      "metadata": {
        "id": "E755ZoXbDB5V"
      }
    },
    {
      "cell_type": "code",
      "source": [
        "from sklearn.impute import SimpleImputer\n",
        "imputer = SimpleImputer(strategy='median')\n"
      ],
      "metadata": {
        "id": "FVc8jaqCCqN9"
      },
      "execution_count": null,
      "outputs": []
    },
    {
      "cell_type": "code",
      "source": [
        "housing_num = housing.drop('ocean_proximity',axis=1)\n",
        "\n"
      ],
      "metadata": {
        "id": "1sN4WNGUCqQ7"
      },
      "execution_count": null,
      "outputs": []
    },
    {
      "cell_type": "code",
      "source": [
        " imputer.fit(housing_num)"
      ],
      "metadata": {
        "id": "GSOVLc2xCqTv"
      },
      "execution_count": null,
      "outputs": []
    },
    {
      "cell_type": "code",
      "source": [
        "imputer.statistics_"
      ],
      "metadata": {
        "id": "-mBbzyblCqWn"
      },
      "execution_count": null,
      "outputs": []
    },
    {
      "cell_type": "code",
      "source": [
        "R =  imputer.transform(housing_num)\n",
        "R"
      ],
      "metadata": {
        "id": "CTm0q3pWCqZg"
      },
      "execution_count": null,
      "outputs": []
    },
    {
      "cell_type": "code",
      "source": [
        "#Fit bilan Transform birga Run qilish\n",
        "R = imputer.fit_transform(housing_num)"
      ],
      "metadata": {
        "id": "0l3AG2ZKFbqC"
      },
      "execution_count": null,
      "outputs": []
    },
    {
      "cell_type": "code",
      "source": [
        "type(R)"
      ],
      "metadata": {
        "id": "XkjL5S9oFDbJ"
      },
      "execution_count": null,
      "outputs": []
    },
    {
      "cell_type": "code",
      "source": [
        "housing_transform = pd.DataFrame(R,columns=housing_num.columns,index=housing_num.index)\n",
        "housing_transform.head()"
      ],
      "metadata": {
        "id": "3vVMTVqoFbnp"
      },
      "execution_count": null,
      "outputs": []
    },
    {
      "cell_type": "markdown",
      "source": [
        "SimpleEncoder"
      ],
      "metadata": {
        "id": "zSc9ivucJekI"
      }
    },
    {
      "cell_type": "code",
      "source": [
        "housing_rash = housing[['ocean_proximity']]\n",
        "housing_rash.head()"
      ],
      "metadata": {
        "id": "BkzZSXCrFS-Y"
      },
      "execution_count": null,
      "outputs": []
    },
    {
      "cell_type": "code",
      "source": [
        "from sklearn.preprocessing import OrdinalEncoder\n",
        "ordinal_encoder = OrdinalEncoder()\n",
        "housing_rash_encoded = ordinal_encoder.fit_transform(housing_rash)\n",
        "housing_rash_encoded  [:8]"
      ],
      "metadata": {
        "id": "eFckNidyFbsN"
      },
      "execution_count": null,
      "outputs": []
    },
    {
      "cell_type": "code",
      "source": [
        "#Bizaga bu yechim tushmedi chunki ml avto raqam berganda masalan <1H OCEAN 0 berdi lekin NEAR OCEAN GA 4 BERDI BULAR BIR BIRIGA BOGLIK YANI ASLIDA 2 BERISH KEREK EDI SHUNGA BU YECHIIM BIZGA TUSHMEDI QACHON TUSHADI CATALOGUE BOLGANDA TUSHISH MUMKIN EDI"
      ],
      "metadata": {
        "id": "XSq4agqkJyTZ"
      },
      "execution_count": null,
      "outputs": []
    },
    {
      "cell_type": "markdown",
      "source": [
        "OneHotEncoder"
      ],
      "metadata": {
        "id": "SPPUCczTLjRb"
      }
    },
    {
      "cell_type": "code",
      "source": [
        "from sklearn.preprocessing import OneHotEncoder\n",
        "rash_encoder = OneHotEncoder()\n",
        "housing_cat_1hot = rash_encoder.fit_transform(housing_rash)\n",
        "housing_cat_1hot.toarray()"
      ],
      "metadata": {
        "id": "4-zVxe3GLg4_"
      },
      "execution_count": null,
      "outputs": []
    },
    {
      "cell_type": "code",
      "source": [
        "housing_rash.value_counts()"
      ],
      "metadata": {
        "id": "0McYSnrXLsHe"
      },
      "execution_count": null,
      "outputs": []
    },
    {
      "cell_type": "markdown",
      "source": [
        "GET_DUNMIES FUNKSIYASI ORQALI XUDDI SHU ISHNI PANDAS  KORIB CHIQAMIZ BIZGA BU DATAFRAME QAYTARADI\n",
        "\n",
        "\n"
      ],
      "metadata": {
        "id": "oMaKokjiO57_"
      }
    },
    {
      "cell_type": "code",
      "source": [
        "#HUDDI SHU ISHDI DATAFRAME XOLDA PANDAS KORIB CHIQAMIZ\n",
        "dummies = pd.get_dummies(df['ocean_proximity'], dtype=int)\n",
        "dummies.head()\n"
      ],
      "metadata": {
        "id": "J7DQVYs1LsKJ"
      },
      "execution_count": null,
      "outputs": []
    },
    {
      "cell_type": "code",
      "source": [
        "from sklearn.base import BaseEstimator, TransformerMixin\n",
        "import numpy as np\n",
        "\n",
        "rooms_ix, bedrooms_ix, population_ix, households_ix = 3, 4, 5, 6\n",
        "\n",
        "class CombinedAttributesAdder(BaseEstimator, TransformerMixin):\n",
        "    def __init__(self, add_bedrooms_per_room=True):\n",
        "        self.add_bedrooms_per_room = add_bedrooms_per_room\n",
        "\n",
        "    def fit(self, X, y=None):\n",
        "        return self\n",
        "\n",
        "    def transform(self, X):\n",
        "        rooms_per_household = X[:, rooms_ix] / X[:, households_ix]\n",
        "        population_per_household = X[:, population_ix] / X[:, households_ix]\n",
        "        if self.add_bedrooms_per_room:\n",
        "            bedrooms_per_room = X[:, bedrooms_ix] / X[:, rooms_ix]\n",
        "            return np.c_[X, rooms_per_household, population_per_household, bedrooms_per_room]\n",
        "        else:\n",
        "            return np.c_[X, rooms_per_household, population_per_household]\n"
      ],
      "metadata": {
        "id": "4YkM2W4rLsM1"
      },
      "execution_count": null,
      "outputs": []
    },
    {
      "cell_type": "code",
      "source": [
        "attr_adder = CombinedAttributesAdder(add_bedrooms_per_room = False)\n",
        "housing_extra_attribs = attr_adder.transform(housing.values)"
      ],
      "metadata": {
        "id": "VKfUeuk_LsPo"
      },
      "execution_count": null,
      "outputs": []
    },
    {
      "cell_type": "code",
      "source": [
        "housing.values[0,:]"
      ],
      "metadata": {
        "id": "g6Ab6FY8ZHE6"
      },
      "execution_count": null,
      "outputs": []
    },
    {
      "cell_type": "code",
      "source": [
        "housing_extra_attribs[0,:]"
      ],
      "metadata": {
        "id": "1iapShW8j4gl"
      },
      "execution_count": null,
      "outputs": []
    },
    {
      "cell_type": "code",
      "source": [
        "housing.head()"
      ],
      "metadata": {
        "id": "hjiw8xBYj4jY"
      },
      "execution_count": null,
      "outputs": []
    },
    {
      "cell_type": "markdown",
      "source": [
        "MinMaxScaler"
      ],
      "metadata": {
        "id": "Y8vCaM0HmgLd"
      }
    },
    {
      "cell_type": "code",
      "source": [
        "housing.describe()"
      ],
      "metadata": {
        "id": "4IkZVfKpkI5P"
      },
      "execution_count": null,
      "outputs": []
    },
    {
      "cell_type": "code",
      "source": [
        "xmin = housing['median_income'].min()\n",
        "xmin"
      ],
      "metadata": {
        "id": "nPvG1q-nkLJ2"
      },
      "execution_count": null,
      "outputs": []
    },
    {
      "cell_type": "code",
      "source": [
        "xmax = housing['median_income'].max()\n",
        "xmax"
      ],
      "metadata": {
        "id": "2BBjPN1Rkl6G"
      },
      "execution_count": null,
      "outputs": []
    },
    {
      "cell_type": "code",
      "source": [
        "xnew = (3.533400-xmin)/(xmax-xmin)\n",
        "xnew"
      ],
      "metadata": {
        "id": "M9WxHM9Zk0ZO"
      },
      "execution_count": null,
      "outputs": []
    },
    {
      "cell_type": "code",
      "source": [
        "from sklearn.preprocessing import MinMaxScaler\n",
        "scaler = MinMaxScaler()\n",
        "housing_scaled = scaler.fit_transform(housing_num)\n",
        "housing_scaled"
      ],
      "metadata": {
        "id": "d3Mg408Uleq3"
      },
      "execution_count": null,
      "outputs": []
    },
    {
      "cell_type": "code",
      "source": [
        "print(housing_scaled.min())\n",
        "print(housing_scaled.max())"
      ],
      "metadata": {
        "id": "7rifRn7yl5bf"
      },
      "execution_count": null,
      "outputs": []
    },
    {
      "cell_type": "markdown",
      "source": [
        "StandardScaler\n"
      ],
      "metadata": {
        "id": "wTiL8OYVqRoQ"
      }
    },
    {
      "cell_type": "code",
      "source": [
        "from sklearn.preprocessing import StandardScaler\n",
        "scaler = StandardScaler()\n",
        "housing_scaled = scaler.fit_transform(housing_num)\n",
        "housing_scaled"
      ],
      "metadata": {
        "id": "s_BnZ0bYmOkm"
      },
      "execution_count": null,
      "outputs": []
    },
    {
      "cell_type": "code",
      "source": [],
      "metadata": {
        "id": "1ADbAHemq6Uh"
      },
      "execution_count": null,
      "outputs": []
    },
    {
      "cell_type": "code",
      "source": [
        "\n"
      ],
      "metadata": {
        "id": "nyH0Z8ATq6dC"
      },
      "execution_count": null,
      "outputs": []
    },
    {
      "cell_type": "code",
      "source": [],
      "metadata": {
        "id": "JBtYJbdJq6fx"
      },
      "execution_count": null,
      "outputs": []
    }
  ]
}